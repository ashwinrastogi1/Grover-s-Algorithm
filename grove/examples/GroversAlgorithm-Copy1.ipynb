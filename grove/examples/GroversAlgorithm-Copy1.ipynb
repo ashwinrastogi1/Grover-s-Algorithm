{
 "cells": [
  {
   "cell_type": "markdown",
   "metadata": {},
   "source": [
    "This notebook is a brief sketch of how to use Grover's algorithm.\n",
    "We start by declaring all necessary imports."
   ]
  },
  {
   "cell_type": "code",
   "execution_count": 76,
   "metadata": {},
   "outputs": [],
   "source": [
    "from itertools import product\n",
    "from pyquil import get_qc\n",
    "from mock import patch\n",
    "import sys\n",
    "sys.path.append(\"..\")\n",
    "from grove.amplification.grover import Grover"
   ]
  },
  {
   "cell_type": "markdown",
   "metadata": {},
   "source": [
    "Grover's algorithm can be used to amplify the probability of an oracle-selected bitstring in an input superposition state."
   ]
  },
  {
   "cell_type": "code",
   "execution_count": 78,
   "metadata": {},
   "outputs": [
    {
     "name": "stdout",
     "output_type": "stream",
     "text": [
      "000\n",
      "001\n",
      "010\n",
      "011\n",
      "100\n",
      "101\n",
      "110\n",
      "111\n"
     ]
    }
   ],
   "source": [
    "#target_string = \"rip\"\n",
    "#target_bitstring = ' '.join(format(x, 'b') for x in bytearray(target_string,'utf8'))\n",
    "target_bitstring = '010'\n",
    "bit = (\"0\", \"1\")\n",
    "bitstring_map = {}\n",
    "target_bitstring_phase = -1\n",
    "nontarget_bitstring_phase = 1\n",
    "\n",
    "# We construct the bitmap for the oracle\n",
    "for bitstring in product(bit, repeat=len(target_bitstring)):\n",
    "    #print(bitstring)\n",
    "    bitstring = \"\".join(bitstring)\n",
    "    print(bitstring)\n",
    "    if bitstring == target_bitstring:\n",
    "        bitstring_map[bitstring] = target_bitstring_phase\n",
    "    else:\n",
    "        bitstring_map[bitstring] = nontarget_bitstring_phase"
   ]
  },
  {
   "cell_type": "markdown",
   "metadata": {},
   "source": [
    "We'll make sure the bitstring_map is as we expect."
   ]
  },
  {
   "cell_type": "code",
   "execution_count": 79,
   "metadata": {},
   "outputs": [],
   "source": [
    "target_bitstring_phase = -1\n",
    "nontarget_bitstring_phase = 1\n",
    "for k,v in bitstring_map.items():\n",
    "    if k == target_bitstring:\n",
    "        assert v == target_bitstring_phase, \"The target bitstring has the wrong phase.\"\n",
    "    else:\n",
    "        assert v == nontarget_bitstring_phase, \"A nontarget bistring has the wrong phase.\""
   ]
  },
  {
   "cell_type": "markdown",
   "metadata": {},
   "source": [
    "To use Grover's algorithm on quantum hardware we need to define a connection to a QVM or QPU. However we don't have a real connection in this notebook, so we just mock out the response. If you intend to run this notebook on a QVM or QPU,  be sure to replace `qc` with a pyQuil QuantumComputer object."
   ]
  },
  {
   "cell_type": "code",
   "execution_count": 80,
   "metadata": {},
   "outputs": [],
   "source": [
    "#qc = get_qc(\"test\",as_qvm=True)\n",
    "number_of_qubits = 3\n",
    "qc = get_qc(f\"{number_of_qubits}q-qvm\")\n",
    "#\"pyquil.api.QuantumComputer\"\n",
    "#with qvm as qc:\n",
    "    #qc.run.return_value = [[int(bit) for bit in target_bitstring]]"
   ]
  },
  {
   "cell_type": "markdown",
   "metadata": {},
   "source": [
    "Now let's run Grover's algorithm. We instantiate the Grover object and then call its `find_bitstring` method.\n",
    "Finally we assert its correctness by checking with the bitstring we used to generate the object."
   ]
  },
  {
   "cell_type": "code",
   "execution_count": 81,
   "metadata": {},
   "outputs": [
    {
     "name": "stdout",
     "output_type": "stream",
     "text": [
      "010\n"
     ]
    }
   ],
   "source": [
    "grover = Grover()\n",
    "found_bitstring = grover.find_bitstring(qc, bitstring_map)\n",
    "assert found_bitstring == target_bitstring, \"Found bitstring is not the expected bitstring\"\n",
    "print(found_bitstring)"
   ]
  },
  {
   "cell_type": "markdown",
   "metadata": {},
   "source": [
    "If the assertion succeeded we know we found the correct bitstring."
   ]
  }
 ],
 "metadata": {
  "kernelspec": {
   "display_name": "Python 3",
   "language": "python",
   "name": "python3"
  },
  "language_info": {
   "codemirror_mode": {
    "name": "ipython",
    "version": 3
   },
   "file_extension": ".py",
   "mimetype": "text/x-python",
   "name": "python",
   "nbconvert_exporter": "python",
   "pygments_lexer": "ipython3",
   "version": "3.6.5"
  }
 },
 "nbformat": 4,
 "nbformat_minor": 1
}
